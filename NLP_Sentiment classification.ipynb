{
 "cells": [
  {
   "cell_type": "markdown",
   "metadata": {},
   "source": [
    "# A brief description"
   ]
  },
  {
   "cell_type": "markdown",
   "metadata": {},
   "source": [
    "In this Jupyter notebook, first, the different airlines about which comments have been tweeted are going to be compared. For this purpose, unique names of people and unique airline names have been extracted. Also, for comparison, sentiments have been converted to numercial values, and the average of them have been calculated for comparison between airlines as well.\n",
    "\n",
    "In the second part of the code, all the tweets have been considered. Also, since some comments include reference to other comments, they have been joined. To estimate the sentiment from the text, two approaches have been made:\n",
    "\n",
    "1) First, count of words have been calculated after processing the sentences in the texts.\n",
    "2) In the second approach, tf-idf has been calculated as features of the classifier used.\n",
    "\n",
    "In addition to the two approaches, two comparisons have been made:\n",
    "\n",
    "1) Models with more features than text have been compared to models with text only.\n",
    "2) Imbalance in data have been removed to prevent the model from being biased towards one label. The resultant two models have been compared.\n"
   ]
  },
  {
   "cell_type": "markdown",
   "metadata": {},
   "source": [
    "# Comparison between airlines:"
   ]
  },
  {
   "cell_type": "markdown",
   "metadata": {},
   "source": [
    "### Reading the data and preprocessing:"
   ]
  },
  {
   "cell_type": "code",
   "execution_count": 1,
   "metadata": {},
   "outputs": [
    {
     "data": {
      "text/plain": [
       "<bound method DataFrame.info of       index            tweet_id  airline_sentiment  \\\n",
       "0         0  570306133677760513                  1   \n",
       "1         1  570301130888122368                  2   \n",
       "2         2  570301083672813571                  1   \n",
       "3         6  570300616901320704                  2   \n",
       "4         7  570300248553349120                  1   \n",
       "...     ...                 ...                ...   \n",
       "7696  14632  569587813856841728                  1   \n",
       "7697  14634  569587691626622976                  0   \n",
       "7698  14635  569587686496825344                  2   \n",
       "7699  14636  569587371693355008                  0   \n",
       "7700  14637  569587242672398336                  1   \n",
       "\n",
       "      airline_sentiment_confidence          negativereason  \\\n",
       "0                           1.0000                     NaN   \n",
       "1                           0.3486                     NaN   \n",
       "2                           0.6837                     NaN   \n",
       "3                           0.6745                     NaN   \n",
       "4                           0.6340                     NaN   \n",
       "...                            ...                     ...   \n",
       "7696                        0.6760                     NaN   \n",
       "7697                        0.6684             Late Flight   \n",
       "7698                        0.3487                     NaN   \n",
       "7699                        1.0000  Customer Service Issue   \n",
       "7700                        1.0000                     NaN   \n",
       "\n",
       "      negativereason_confidence         airline airline_sentiment_gold  \\\n",
       "0                           NaN  Virgin America                    NaN   \n",
       "1                        0.0000  Virgin America                    NaN   \n",
       "2                           NaN  Virgin America                    NaN   \n",
       "3                        0.0000  Virgin America                    NaN   \n",
       "4                           NaN  Virgin America                    NaN   \n",
       "...                         ...             ...                    ...   \n",
       "7696                     0.0000        American                    NaN   \n",
       "7697                     0.6684        American                    NaN   \n",
       "7698                     0.0000        American                    NaN   \n",
       "7699                     1.0000        American                    NaN   \n",
       "7700                        NaN        American                    NaN   \n",
       "\n",
       "                 name negativereason_gold  retweet_count  \\\n",
       "0             cairdin                 NaN              0   \n",
       "1            jnardino                 NaN              0   \n",
       "2          yvonnalynn                 NaN              0   \n",
       "3          cjmcginnis                 NaN              0   \n",
       "4               pilot                 NaN              0   \n",
       "...               ...                 ...            ...   \n",
       "7696       Chad_SMFYM                 NaN              0   \n",
       "7697    GolfWithWoody                 NaN              0   \n",
       "7698  KristenReenders                 NaN              0   \n",
       "7699         itsropes                 NaN              0   \n",
       "7700         sanyabun                 NaN              0   \n",
       "\n",
       "                                                   text tweet_coord  \\\n",
       "0                   @VirginAmerica What @dhepburn said.         NaN   \n",
       "1     @VirginAmerica plus you've added commercials t...         NaN   \n",
       "2     @VirginAmerica I didn't today... Must mean I n...         NaN   \n",
       "3     @VirginAmerica yes, nearly every time I fly VX...         NaN   \n",
       "4     @VirginAmerica Really missed a prime opportuni...         NaN   \n",
       "...                                                 ...         ...   \n",
       "7696  “@AmericanAir: @TilleyMonsta George, that does...         NaN   \n",
       "7697         @AmericanAir right on cue with the delays👌         NaN   \n",
       "7698  @AmericanAir thank you we got on a different f...         NaN   \n",
       "7699  @AmericanAir leaving over 20 minutes Late Flig...         NaN   \n",
       "7700  @AmericanAir Please bring American Airlines to...         NaN   \n",
       "\n",
       "                  tweet_created    tweet_location               user_timezone  \n",
       "0     2015-02-24 11:35:52 -0800               NaN  Eastern Time (US & Canada)  \n",
       "1     2015-02-24 11:15:59 -0800               NaN  Pacific Time (US & Canada)  \n",
       "2     2015-02-24 11:15:48 -0800         Lets Play  Central Time (US & Canada)  \n",
       "3     2015-02-24 11:13:57 -0800  San Francisco CA  Pacific Time (US & Canada)  \n",
       "4     2015-02-24 11:12:29 -0800       Los Angeles  Pacific Time (US & Canada)  \n",
       "...                         ...               ...                         ...  \n",
       "7696  2015-02-22 12:01:31 -0800               NaN  Central Time (US & Canada)  \n",
       "7697  2015-02-22 12:01:02 -0800               NaN                       Quito  \n",
       "7698  2015-02-22 12:01:01 -0800               NaN                         NaN  \n",
       "7699  2015-02-22 11:59:46 -0800             Texas                         NaN  \n",
       "7700  2015-02-22 11:59:15 -0800     Nigeria,lagos                         NaN  \n",
       "\n",
       "[7701 rows x 16 columns]>"
      ]
     },
     "execution_count": 1,
     "metadata": {},
     "output_type": "execute_result"
    }
   ],
   "source": [
    "import numpy as np\n",
    "import pandas as pd\n",
    "\n",
    "df = pd.read_csv(\"C:\\\\Users\\\\MICROTECH\\\\Downloads\\\\Tweets.csv\")\n",
    "\n",
    "\n",
    "#Extracting unique names of people (to eliminate multiple comments by the same people)\n",
    "name=[]\n",
    "index=[]\n",
    "for i in range(len(df)):\n",
    "    if df['name'][i] not in name:\n",
    "        name.append(df['name'][i]) \n",
    "        index.append(i)\n",
    "\n",
    "df=df.iloc[index]\n",
    "df=df.reset_index()\n",
    "\n",
    "\n",
    "#get unique names for the airlines:\n",
    "airline=list()\n",
    "for i in range(len(df)):\n",
    "    if df['airline'][i] not in airline:\n",
    "        airline.append(df['airline'][i])\n",
    "\n",
    "\n",
    "#In order to get an anerage score and work with sentiments as labels, we should change them into numerical values:\n",
    "df['airline_sentiment']=df['airline_sentiment'].astype('category').cat.codes\n",
    "df.info"
   ]
  },
  {
   "cell_type": "code",
   "execution_count": 2,
   "metadata": {},
   "outputs": [],
   "source": [
    "#separate different sentiments\n",
    "negative= df[df['airline_sentiment']==0]\n",
    "neutral=df[df['airline_sentiment']==1]\n",
    "positive= df[df['airline_sentiment']==2]"
   ]
  },
  {
   "cell_type": "code",
   "execution_count": 4,
   "metadata": {},
   "outputs": [
    {
     "data": {
      "image/png": "[encoded data removed]",
      "text/plain": [
       "<Figure size 432x288 with 1 Axes>"
      ]
     },
     "metadata": {
      "needs_background": "light"
     },
     "output_type": "display_data"
    }
   ],
   "source": [
    "import matplotlib.pyplot as plt\n",
    "\n",
    "# Bar plots for comparison between different airlines:\n",
    "n_groups = len(airline)\n",
    "\n",
    "neg =(len(negative[negative['airline']==airline[0]]) ,len(negative[negative['airline']==airline[1]]),\n",
    "len(negative[negative['airline']==airline[2]]),len(negative[negative['airline']==airline[3]]),\n",
    "len(negative[negative['airline']==airline[4]]),len(negative[negative['airline']==airline[5]]))\n",
    "\n",
    "neu= ( len(neutral[neutral['airline']==airline[0]]) ,len(neutral[neutral['airline']==airline[1]]),\n",
    "len(neutral[neutral['airline']==airline[2]]),len(neutral[neutral['airline']==airline[3]]),\n",
    "len(neutral[neutral['airline']==airline[4]]),len(neutral[neutral['airline']==airline[5]]))\n",
    "\n",
    "pos= ( len(positive[positive['airline']==airline[0]]) ,len(positive[positive['airline']==airline[1]]),\n",
    "len(positive[positive['airline']==airline[2]]),len(positive[positive['airline']==airline[3]]),\n",
    "len(positive[positive['airline']==airline[4]]),len(positive[positive['airline']==airline[5]]))\n",
    "\n",
    "\n",
    "# create plot\n",
    "fig, ax = plt.subplots()\n",
    "index = np.arange(n_groups)\n",
    "bar_width = 0.2\n",
    "opacity = 0.8\n",
    "\n",
    "rects1 = plt.bar(index, neg, bar_width,\n",
    "alpha=opacity,\n",
    "color='k',\n",
    "label='negative')\n",
    "\n",
    "rects2 = plt.bar(index + bar_width, neu, bar_width,\n",
    "alpha=opacity,\n",
    "color='b',\n",
    "label='neutral')\n",
    "rects3 = plt.bar(index + 2*bar_width, pos, bar_width,alpha=opacity,color='orange',label='positive')\n",
    "\n",
    "plt.xlabel('airlines')\n",
    "plt.ylabel('sentiment frequency')\n",
    "plt.title('')\n",
    "plt.xticks(index + bar_width, (airline[0], airline[1], airline[2], airline[3], airline[4], airline[5]))\n",
    "plt.legend()\n",
    "\n",
    "plt.tight_layout()\n",
    "plt.show()\n",
    "\n"
   ]
  },
  {
   "cell_type": "code",
   "execution_count": 5,
   "metadata": {},
   "outputs": [],
   "source": [
    "#calculating scores for each airline based on average of scores:\n",
    "\n",
    "score1= (sum(neutral[neutral['airline']==airline[0]]['airline_sentiment'])+sum(positive[positive['airline']==airline[0]]['airline_sentiment']))/len(df[df['airline']==airline[0]])\n",
    "score2= (sum(neutral[neutral['airline']==airline[1]]['airline_sentiment'])+sum(positive[positive['airline']==airline[1]]['airline_sentiment']))/len(df[df['airline']==airline[1]])\n",
    "score3= (sum(neutral[neutral['airline']==airline[2]]['airline_sentiment'])+sum(positive[positive['airline']==airline[2]]['airline_sentiment']))/len(df[df['airline']==airline[2]])\n",
    "score4= (sum(neutral[neutral['airline']==airline[3]]['airline_sentiment'])+sum(positive[positive['airline']==airline[3]]['airline_sentiment']))/len(df[df['airline']==airline[3]])\n",
    "score5= (sum(neutral[neutral['airline']==airline[4]]['airline_sentiment'])+sum(positive[positive['airline']==airline[4]]['airline_sentiment']))/len(df[df['airline']==airline[4]])\n",
    "score6= (sum(neutral[neutral['airline']==airline[5]]['airline_sentiment'])+sum(positive[positive['airline']==airline[5]]['airline_sentiment']))/len(df[df['airline']==airline[5]])\n",
    "\n",
    "\n"
   ]
  },
  {
   "cell_type": "code",
   "execution_count": 6,
   "metadata": {},
   "outputs": [
    {
     "data": {
      "image/png": "[encoded data removed]",
      "text/plain": [
       "<Figure size 432x288 with 1 Axes>"
      ]
     },
     "metadata": {
      "needs_background": "light"
     },
     "output_type": "display_data"
    }
   ],
   "source": [
    "airlines= (airline[0], airline[1], airline[2], airline[3], airline[4], airline[5])\n",
    "y_pos = np.arange(len(airlines))\n",
    "performance = [score1,score2,score3,score4,score5,score6]\n",
    "\n",
    "plt.bar(y_pos, performance, align='center', alpha=0.8, width =0.5)\n",
    "plt.xticks(y_pos, airlines)\n",
    "plt.ylabel('score')\n",
    "plt.title('Sentiment Scores of Airlines')\n",
    "\n",
    "plt.show()"
   ]
  },
  {
   "cell_type": "markdown",
   "metadata": {},
   "source": [
    "# Sentiment estimation"
   ]
  },
  {
   "cell_type": "markdown",
   "metadata": {},
   "source": [
    "### Reading the data and preprocessing:"
   ]
  },
  {
   "cell_type": "code",
   "execution_count": 7,
   "metadata": {},
   "outputs": [],
   "source": [
    "#We consider all of the comments (even multiple ones from one person) to estimate the sentiment:\n",
    "\n",
    "df = pd.read_csv(\"C:\\\\Users\\\\MICROTECH\\\\Downloads\\\\Tweets.csv\")\n",
    "\n",
    "df['negativereason'] =df['negativereason'].replace(np.nan, 'No comments' )\n",
    "categorical_var=['airline_sentiment','negativereason']\n",
    "\n",
    "for i in range(2):\n",
    "    df[categorical_var[i]]=df[categorical_var[i]].astype('category').cat.codes\n",
    "\n",
    "\n"
   ]
  },
  {
   "cell_type": "code",
   "execution_count": null,
   "metadata": {},
   "outputs": [],
   "source": [
    "# considering people's reference to other comments:\n",
    "\n",
    "for i in range(len(df)):\n",
    "    for j in range(len(name)):\n",
    "        if name[j] in df['text'][i]:\n",
    "            ind= name.index(name[j])\n",
    "            df['text'][i]=df['text'][i] + df['text'][index[ind]]\n",
    "    "
   ]
  },
  {
   "cell_type": "code",
   "execution_count": 20,
   "metadata": {},
   "outputs": [
    {
     "data": {
      "text/plain": [
       "14640"
      ]
     },
     "execution_count": 20,
     "metadata": {},
     "output_type": "execute_result"
    }
   ],
   "source": [
    "len(df)"
   ]
  },
  {
   "cell_type": "markdown",
   "metadata": {},
   "source": [
    "### Approach 1 : tf-idf"
   ]
  },
  {
   "cell_type": "markdown",
   "metadata": {},
   "source": [
    "#### Data conversion:"
   ]
  },
  {
   "cell_type": "code",
   "execution_count": 27,
   "metadata": {},
   "outputs": [],
   "source": [
    "from sklearn.feature_extraction.text import TfidfVectorizer\n",
    "Xtr, Xte, ytr, yte = train_test_split(df['text'], df['airline_sentiment'], test_size=0.3, random_state=1)\n",
    "#train_data , test_data, train_lbl, test_lbl = train_test_split(df[additional_features], df['airline_sentiment'], test_size=0.3, random_state=1)\n",
    "tf=TfidfVectorizer()\n",
    "tf.fit(Xtr)\n",
    "Xtr= tf.transform(Xtr)\n",
    "Xte=tf.transform(Xte)\n"
   ]
  },
  {
   "cell_type": "markdown",
   "metadata": {},
   "source": [
    "#### Classification:\n"
   ]
  },
  {
   "cell_type": "code",
   "execution_count": 28,
   "metadata": {},
   "outputs": [
    {
     "name": "stderr",
     "output_type": "stream",
     "text": [
      "C:\\Users\\MICROTECH\\Anaconda3\\lib\\site-packages\\sklearn\\ensemble\\forest.py:245: FutureWarning: The default value of n_estimators will change from 10 in version 0.20 to 100 in 0.22.\n",
      "  \"10 in version 0.20 to 100 in 0.22.\", FutureWarning)\n"
     ]
    },
    {
     "name": "stdout",
     "output_type": "stream",
     "text": [
      "Random Forest Accuracy: 0.7281420765027322\n"
     ]
    },
    {
     "data": {
      "text/plain": [
       "array([0.83303873, 0.44444444, 0.51301115])"
      ]
     },
     "execution_count": 28,
     "metadata": {},
     "output_type": "execute_result"
    }
   ],
   "source": [
    "from sklearn.ensemble import RandomForestClassifier\n",
    "from sklearn import metrics\n",
    "from sklearn.metrics import f1_score\n",
    "from sklearn.metrics import confusion_matrix\n",
    "rf=RandomForestClassifier()\n",
    "rf.fit(Xtr, ytr)                       \n",
    "predicted= rf.predict(Xte)\n",
    "print(\"Random Forest Accuracy:\",metrics.accuracy_score(yte, predicted))\n",
    "f1_score(y_test, predicted, average=None)"
   ]
  },
  {
   "cell_type": "markdown",
   "metadata": {},
   "source": [
    "#### َAdding additional features to text features:"
   ]
  },
  {
   "cell_type": "code",
   "execution_count": 29,
   "metadata": {},
   "outputs": [
    {
     "data": {
      "text/plain": [
       "array([0.83303873, 0.44444444, 0.51301115])"
      ]
     },
     "execution_count": 29,
     "metadata": {},
     "output_type": "execute_result"
    }
   ],
   "source": [
    "additional_features=['airline_sentiment_confidence','negativereason']\n",
    "train_data , test_data, train_lbl, test_lbl = train_test_split(df[additional_features], df['airline_sentiment'], test_size=0.3, random_state=1)\n",
    "Xtr = hstack((Xtr,np.array(train_data)))\n",
    "Xte=hstack((Xte,np.array(test_data)))"
   ]
  },
  {
   "cell_type": "markdown",
   "metadata": {},
   "source": [
    "#### Classification with additional features:"
   ]
  },
  {
   "cell_type": "code",
   "execution_count": 30,
   "metadata": {},
   "outputs": [
    {
     "name": "stderr",
     "output_type": "stream",
     "text": [
      "C:\\Users\\MICROTECH\\Anaconda3\\lib\\site-packages\\sklearn\\ensemble\\forest.py:245: FutureWarning: The default value of n_estimators will change from 10 in version 0.20 to 100 in 0.22.\n",
      "  \"10 in version 0.20 to 100 in 0.22.\", FutureWarning)\n"
     ]
    },
    {
     "name": "stdout",
     "output_type": "stream",
     "text": [
      "Random Forest Accuracy: 0.8604280510018215\n"
     ]
    },
    {
     "data": {
      "text/plain": [
       "array([0.94758837, 0.73165506, 0.63884157])"
      ]
     },
     "execution_count": 30,
     "metadata": {},
     "output_type": "execute_result"
    }
   ],
   "source": [
    "rf=RandomForestClassifier()\n",
    "rf.fit(Xtr, ytr)                       \n",
    "predicted= rf.predict(Xte)\n",
    "print(\"Random Forest Accuracy:\",metrics.accuracy_score(yte, predicted))\n",
    "f1_score(y_test, predicted, average=None)"
   ]
  },
  {
   "cell_type": "markdown",
   "metadata": {},
   "source": [
    "### Approach 2: word counts"
   ]
  },
  {
   "cell_type": "code",
   "execution_count": 31,
   "metadata": {},
   "outputs": [],
   "source": [
    "# Before processing the text, we need to split the data including both dependent (sentiment)\n",
    "#and independent variable (text)\n",
    "from sklearn.model_selection import train_test_split\n",
    "from scipy.sparse import hstack\n",
    "X_train, X_test, y_train, y_test = train_test_split(df['text'], df['airline_sentiment'], test_size=0.3, random_state=1)\n",
    "from sklearn.feature_extraction.text import CountVectorizer\n",
    "from nltk.tokenize import RegexpTokenizer\n",
    "#tokenizer to remove unwanted elements from out data like symbols and numbers\n",
    "token = RegexpTokenizer(r'[a-zA-Z0-9]+')\n",
    "cv = CountVectorizer(lowercase=True,stop_words='english',ngram_range = (1,1),tokenizer = token.tokenize)\n",
    "cv.fit(df['text'])\n",
    "X_train= cv.transform(X_train)\n",
    "X_test=cv.transform(X_test)\n",
    "\n"
   ]
  },
  {
   "cell_type": "code",
   "execution_count": 32,
   "metadata": {},
   "outputs": [
    {
     "name": "stderr",
     "output_type": "stream",
     "text": [
      "C:\\Users\\MICROTECH\\Anaconda3\\lib\\site-packages\\sklearn\\ensemble\\forest.py:245: FutureWarning: The default value of n_estimators will change from 10 in version 0.20 to 100 in 0.22.\n",
      "  \"10 in version 0.20 to 100 in 0.22.\", FutureWarning)\n"
     ]
    },
    {
     "name": "stdout",
     "output_type": "stream",
     "text": [
      "RandomForest Accuracy: 0.7233606557377049\n"
     ]
    },
    {
     "data": {
      "text/plain": [
       "array([0.82644915, 0.48785997, 0.58193445])"
      ]
     },
     "execution_count": 32,
     "metadata": {},
     "output_type": "execute_result"
    }
   ],
   "source": [
    "# classification with random forest:\n",
    "rf=RandomForestClassifier()\n",
    "rf.fit(X_train, y_train)\n",
    "predicted= rf.predict(X_test)\n",
    "print(\"RandomForest Accuracy:\",metrics.accuracy_score(y_test, predicted))\n",
    "f1_score(y_test, predicted, average=None)"
   ]
  },
  {
   "cell_type": "markdown",
   "metadata": {},
   "source": [
    "Brief conclusion:\n",
    "We are able to estimate the sentiments based on text only by an accuracy of approximately 0.723, but since data is imbalanced, we need to have f1_score to evaluate the model. As can be seen, negative labels are more probable to be estimated than neutral and positive sentiments. "
   ]
  },
  {
   "cell_type": "markdown",
   "metadata": {},
   "source": [
    "We add other features such as \"sentiment confidence\" and \"negative reason\" to see if we can enhance the model performance. "
   ]
  },
  {
   "cell_type": "markdown",
   "metadata": {},
   "source": [
    "#### Adding more features"
   ]
  },
  {
   "cell_type": "code",
   "execution_count": 33,
   "metadata": {},
   "outputs": [],
   "source": [
    "# Adding more features and stacking all together:\n",
    "X_train = hstack((X_train,np.array(train_data)))\n",
    "X_test=hstack((X_test,np.array(test_data)))"
   ]
  },
  {
   "cell_type": "markdown",
   "metadata": {},
   "source": [
    "#### Classification with more features:"
   ]
  },
  {
   "cell_type": "code",
   "execution_count": 34,
   "metadata": {},
   "outputs": [
    {
     "name": "stderr",
     "output_type": "stream",
     "text": [
      "C:\\Users\\MICROTECH\\Anaconda3\\lib\\site-packages\\sklearn\\ensemble\\forest.py:245: FutureWarning: The default value of n_estimators will change from 10 in version 0.20 to 100 in 0.22.\n",
      "  \"10 in version 0.20 to 100 in 0.22.\", FutureWarning)\n"
     ]
    },
    {
     "name": "stdout",
     "output_type": "stream",
     "text": [
      "RandomForest Accuracy: 0.9107468123861566\n"
     ]
    },
    {
     "data": {
      "text/plain": [
       "array([0.99094531, 0.81616162, 0.71138846])"
      ]
     },
     "execution_count": 34,
     "metadata": {},
     "output_type": "execute_result"
    }
   ],
   "source": [
    "\n",
    "rf=RandomForestClassifier()\n",
    "rf.fit(X_train, y_train)\n",
    "predicted= rf.predict(X_test)\n",
    "print(\"RandomForest Accuracy:\",metrics.accuracy_score(y_test, predicted))\n",
    "f1_score(y_test, predicted, average=None)"
   ]
  },
  {
   "cell_type": "markdown",
   "metadata": {},
   "source": [
    "Brief conclusion: As can be seen the accuracy of the model was enhanced significantly. But still, the model works better at the estimation of negative comments."
   ]
  },
  {
   "cell_type": "markdown",
   "metadata": {},
   "source": [
    "### Addressing imbalance in data labels:"
   ]
  },
  {
   "cell_type": "markdown",
   "metadata": {},
   "source": [
    "####  balancing the labels:"
   ]
  },
  {
   "cell_type": "code",
   "execution_count": 37,
   "metadata": {},
   "outputs": [],
   "source": [
    "#solution to imbalance: \n",
    "negative= df[df['airline_sentiment']==0]\n",
    "neutral=df[df['airline_sentiment']==1]\n",
    "positive= df[df['airline_sentiment']==2]\n",
    "minimum= min(len(negative), len(neutral), len(positive))\n",
    "(len(negative), len(neutral), len(positive))\n",
    "negative=negative.sample(minimum)\n",
    "neutral=neutral.sample(minimum)\n",
    "df= pd.concat([negative,neutral,positive])"
   ]
  },
  {
   "cell_type": "markdown",
   "metadata": {},
   "source": [
    "#### processing and classification:"
   ]
  },
  {
   "cell_type": "code",
   "execution_count": 39,
   "metadata": {},
   "outputs": [
    {
     "name": "stderr",
     "output_type": "stream",
     "text": [
      "C:\\Users\\MICROTECH\\Anaconda3\\lib\\site-packages\\sklearn\\ensemble\\forest.py:245: FutureWarning: The default value of n_estimators will change from 10 in version 0.20 to 100 in 0.22.\n",
      "  \"10 in version 0.20 to 100 in 0.22.\", FutureWarning)\n"
     ]
    },
    {
     "name": "stdout",
     "output_type": "stream",
     "text": [
      "Random Forest Accuracy: 0.8321579689703809\n"
     ]
    },
    {
     "data": {
      "text/plain": [
       "array([0.96423462, 0.78917558, 0.74033149])"
      ]
     },
     "execution_count": 39,
     "metadata": {},
     "output_type": "execute_result"
    }
   ],
   "source": [
    "X_train, X_test, y_train, y_test = train_test_split(df['text'], df['airline_sentiment'], test_size=0.3, random_state=1)\n",
    "train_data , test_data, train_lbl, test_lbl = train_test_split(df[additional_features], df['airline_sentiment'], test_size=0.3, random_state=1)\n",
    "token = RegexpTokenizer(r'[a-zA-Z0-9]+')\n",
    "cv = CountVectorizer(lowercase=True,stop_words='english',ngram_range = (1,1),tokenizer = token.tokenize)\n",
    "cv.fit(df['text'])\n",
    "X_train= cv.transform(X_train)\n",
    "X_test=cv.transform(X_test)\n",
    "\n",
    "X_train = hstack((X_train,np.array(train_data)))\n",
    "X_test=hstack((X_test,np.array(test_data)))\n",
    "rf=RandomForestClassifier()\n",
    "rf.fit(X_train, y_train)                       \n",
    "\n",
    "predicted= rf.predict(X_test)\n",
    "print(\"Random Forest Accuracy:\",metrics.accuracy_score(y_test, predicted))\n",
    "f1_score(y_test, predicted, average=None)\n"
   ]
  },
  {
   "cell_type": "markdown",
   "metadata": {},
   "source": [
    "#### Conclusion:"
   ]
  },
  {
   "cell_type": "markdown",
   "metadata": {},
   "source": [
    "In the last model, although the labels have been balanced, but the f score for each label has not changed considerably in comparison to the imbalanced model. So, the model with extra features including negative reason and sentiment confidence with text features and original imbalanced labels is the best model. This random forest classifier can predict the sentiments with an overal accuracy of 0.911 and fscore of 0.991, 0.816 , 0.711 for negative, neutral and positive classe, respectively."
   ]
  },
  {
   "cell_type": "code",
   "execution_count": null,
   "metadata": {},
   "outputs": [],
   "source": []
  }
 ],
 "metadata": {
  "kernelspec": {
   "display_name": "Python 3",
   "language": "python",
   "name": "python3"
  },
  "language_info": {
   "codemirror_mode": {
    "name": "ipython",
    "version": 3
   },
   "file_extension": ".py",
   "mimetype": "text/x-python",
   "name": "python",
   "nbconvert_exporter": "python",
   "pygments_lexer": "ipython3",
   "version": "3.7.4"
  }
 },
 "nbformat": 4,
 "nbformat_minor": 2
}
